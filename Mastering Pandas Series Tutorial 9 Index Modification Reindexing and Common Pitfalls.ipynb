{
 "cells": [
  {
   "cell_type": "markdown",
   "id": "0cc7a219",
   "metadata": {},
   "source": [
    "### Title: **Common Errors with Attributes**\n",
    "\n",
    "---\n",
    "\n",
    "#### **1. Trying to Modify Attributes Directly**\n",
    "- ** Attributes like `index` or `values` are properties of the Series object. You cannot directly modify them as if you're assigning new values.\n",
    "  \n",
    "**Example:**\n",
    "```python\n",
    "import pandas as pd\n",
    "\n",
    "# A Pandas Series with example data\n",
    "expenses = pd.Series(\n",
    "    [1200, 1500, 800],\n",
    "    index=['Rent', 'Groceries', 'Electricity']\n",
    ")\n",
    "\n",
    "# Trying to directly modify the index\n",
    "expenses.index = [1, 2, 3]  # This will raise an error\n",
    "```\n",
    "\n",
    "**Why this happens:** Pandas prevents you from directly overwriting the `index` attribute to maintain data integrity.\n",
    "\n",
    "**Fix:** Use `.rename()` or `.reindex()` methods for safe modifications.\n",
    "\n",
    "**Correct Approach:**\n",
    "```python\n",
    "# Renaming the index\n",
    "new_expenses = expenses.rename(index={'Rent': 'House Rent', 'Groceries': 'Food'})\n",
    "print(new_expenses)\n",
    "\n",
    "# Reindexing with a completely new set of labels\n",
    "reindexed_expenses = expenses.reindex(['Electricity', 'Rent', 'Internet'])\n",
    "print(reindexed_expenses)\n",
    "```\n",
    "\n",
    "---\n",
    "\n",
    "#### **2. Accessing Unavailable Attributes**\n",
    "- **What this means:** Pandas Series objects have specific attributes, like `index`, `values`, or `dtype`. Trying to access attributes that are valid for other objects (e.g., DataFrame) will raise an error.\n",
    "\n",
    "**Example:**\n",
    "```python\n",
    "# Attempting to access 'columns', which is a DataFrame attribute\n",
    "print(expenses.columns)  # This will raise an error\n",
    "```\n",
    "\n",
    "**Why this happens:** The `Series` object is **one-dimensional** and doesn't have columns. Attributes like `columns` exist only for **two-dimensional objects**, such as DataFrames.\n",
    "\n",
    "**Tip to Avoid Errors:**\n",
    "Use the `dir()` function to see a list of available attributes and methods for the Series object.\n",
    "\n",
    "**Example:**\n",
    "```python\n",
    "# Listing all attributes and methods for the Series object\n",
    "print(dir(expenses))\n",
    "```\n",
    "\n",
    "This will show all valid properties and methods you can use with the Series object, helping you avoid trying to access unavailable attributes.\n",
    "\n",
    "---\n",
    "\n",
    "### Summary\n",
    "1. **Don't modify attributes directly** like `index` or `values`. Use `.rename()` or `.reindex()` instead.\n",
    "2. **Access only available attributes** for Series. Use `dir()` to explore valid options.\n",
    "3. Always consult the documentation or use `help()` to clarify the purpose of an attribute or method.\n",
    "\n",
    "By following these practices, you’ll avoid common pitfalls and ensure smooth coding with Pandas Series."
   ]
  },
  {
   "cell_type": "code",
   "execution_count": null,
   "id": "6e6a3007",
   "metadata": {},
   "outputs": [],
   "source": [
    "\n"
   ]
  },
  {
   "cell_type": "code",
   "execution_count": 34,
   "id": "14f860b4",
   "metadata": {},
   "outputs": [
    {
     "name": "stdout",
     "output_type": "stream",
     "text": [
      "Rent           1200\n",
      "Groceries      1500\n",
      "Electricity     800\n",
      "dtype: int64\n",
      "A              1200\n",
      "2              1500\n",
      "Electricity     800\n",
      "dtype: int64\n"
     ]
    }
   ],
   "source": [
    "import pandas as pd\n",
    "\n",
    "# A Pandas Series with example data\n",
    "expenses = pd.Series(\n",
    "    [1200, 1500, 800],\n",
    "    index=['Rent', 'Groceries', 'Electricity']\n",
    ")\n",
    "print(expenses)\n",
    "# Trying to directly modify the index\n",
    "expenses.index = ['A', '2', 'Electricity']  # This will raise an error\n",
    "print(expenses)"
   ]
  },
  {
   "cell_type": "code",
   "execution_count": null,
   "id": "44231e7f",
   "metadata": {},
   "outputs": [],
   "source": []
  },
  {
   "cell_type": "code",
   "execution_count": 37,
   "id": "60b8c3e9",
   "metadata": {},
   "outputs": [
    {
     "data": {
      "text/plain": [
       "Rent           1200\n",
       "Groceries      1500\n",
       "Electricity     800\n",
       "dtype: int64"
      ]
     },
     "execution_count": 37,
     "metadata": {},
     "output_type": "execute_result"
    }
   ],
   "source": [
    "expenses = pd.Series(\n",
    "    [1200, 1500, 800],\n",
    "    index=['Rent', 'Groceries', 'Electricity']\n",
    ")\n",
    "expenses"
   ]
  },
  {
   "cell_type": "code",
   "execution_count": 38,
   "id": "172a1b35",
   "metadata": {},
   "outputs": [
    {
     "name": "stdout",
     "output_type": "stream",
     "text": [
      "House Rent     1200\n",
      "Food           1500\n",
      "Electricity     800\n",
      "dtype: int64\n"
     ]
    }
   ],
   "source": [
    "\n",
    "# Renaming the index\n",
    "new_expenses = expenses.rename(index={'Rent': 'House Rent', 'Groceries': 'Food'})\n",
    "print(new_expenses)\n"
   ]
  },
  {
   "cell_type": "code",
   "execution_count": 39,
   "id": "d571cd23",
   "metadata": {},
   "outputs": [
    {
     "name": "stdout",
     "output_type": "stream",
     "text": [
      "Electricity     800.0\n",
      "Rent           1200.0\n",
      "Internet          NaN\n",
      "dtype: float64\n"
     ]
    }
   ],
   "source": [
    "\n",
    "# Reindexing with a completely new set of labels\n",
    "reindexed_expenses = expenses.reindex(['Electricity', 'Rent', 'Internet'])\n",
    "print(reindexed_expenses)"
   ]
  },
  {
   "cell_type": "code",
   "execution_count": 40,
   "id": "f778f754",
   "metadata": {},
   "outputs": [
    {
     "name": "stdout",
     "output_type": "stream",
     "text": [
      "Rent           1200\n",
      "Groceries      1500\n",
      "Electricity     800\n",
      "dtype: int64\n"
     ]
    }
   ],
   "source": [
    "print(expenses)"
   ]
  },
  {
   "cell_type": "code",
   "execution_count": 49,
   "id": "dea1ea81",
   "metadata": {},
   "outputs": [
    {
     "name": "stdout",
     "output_type": "stream",
     "text": [
      "1380881892880\n",
      "1380881951584\n",
      "1380881951296\n"
     ]
    }
   ],
   "source": [
    "print(id(expenses))\n",
    "print(id(new_expenses))\n",
    "print(id(reindexed_expenses))"
   ]
  },
  {
   "cell_type": "code",
   "execution_count": 47,
   "id": "422debfb",
   "metadata": {},
   "outputs": [
    {
     "name": "stdout",
     "output_type": "stream",
     "text": [
      "Electricity     800.0\n",
      "Rent           1200.0\n",
      "Internet          NaN\n",
      "dtype: float64\n"
     ]
    }
   ],
   "source": [
    "expenses = expenses.reindex(['Electricity', 'Rent', 'Internet'])\n",
    "print(expenses)"
   ]
  },
  {
   "cell_type": "code",
   "execution_count": 48,
   "id": "a755aaed",
   "metadata": {},
   "outputs": [
    {
     "name": "stdout",
     "output_type": "stream",
     "text": [
      "1380881892880\n"
     ]
    }
   ],
   "source": [
    "print(id(expenses))"
   ]
  },
  {
   "cell_type": "code",
   "execution_count": null,
   "id": "5c7f6b13",
   "metadata": {},
   "outputs": [],
   "source": []
  }
 ],
 "metadata": {
  "kernelspec": {
   "display_name": "Python 3 (ipykernel)",
   "language": "python",
   "name": "python3"
  },
  "language_info": {
   "codemirror_mode": {
    "name": "ipython",
    "version": 3
   },
   "file_extension": ".py",
   "mimetype": "text/x-python",
   "name": "python",
   "nbconvert_exporter": "python",
   "pygments_lexer": "ipython3",
   "version": "3.10.9"
  }
 },
 "nbformat": 4,
 "nbformat_minor": 5
}
